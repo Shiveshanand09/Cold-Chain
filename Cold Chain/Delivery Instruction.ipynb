{
 "cells": [
  {
   "cell_type": "code",
   "execution_count": 2,
   "id": "102d819a-5ca1-484d-9379-fbe3c645723f",
   "metadata": {},
   "outputs": [],
   "source": [
    "import re\n",
    "import json"
   ]
  },
  {
   "cell_type": "code",
   "execution_count": 3,
   "id": "0ab13d0a-766e-4d54-a471-4732adbfedf5",
   "metadata": {},
   "outputs": [],
   "source": [
    "text = \"\"\"\n",
    "Fwd: Today Request to Arranged Pick-up from Mahamana Pandit Madan Mohan Malaviya Cancer Centre, Varanasi (U.P.) - 221005, India\n",
    "\n",
    "Prathmesh Kalase <prathmesh@sparsematrix.co.in>\n",
    "Attachments\n",
    "12 Aug 2024, 14:19 (12 days ago)\n",
    "to me\n",
    "\n",
    "\n",
    "Forwarded Conversation\n",
    "Subject: Fwd: Today Request to Arranged Pick-up from Mahamana Pandit Madan Mohan Malaviya Cancer Centre, Varanasi (U.P.) - 221005, India\n",
    "------------------------\n",
    "\n",
    "From: Esparse Matrix Solutions Pvt Ltd <info@sparsematrix.co.in>\n",
    "Date: Fri, 28 Jun 2024 at 13:13\n",
    "To: Prathmesh Kalase <prathmesh@sparsematrix.co.in>\n",
    "\n",
    "\n",
    "\n",
    "---------- Forwarded message ---------\n",
    "From: Bharat - KP Cold Chain <bharat@kpcoldchain.com>\n",
    "Date: Fri, 28 Jun, 2024, 1:07 pm\n",
    "Subject: RE: Today Request to Arranged Pick-up from Mahamana Pandit Madan Mohan Malaviya Cancer Centre, Varanasi (U.P.) - 221005, India\n",
    "To: <Info@sparsematrix.co.in>\n",
    "\n",
    "\n",
    " \n",
    "\n",
    " \n",
    "\n",
    "From: Nilesh Dhangar [mailto:logistics@datarpgx.org]\n",
    "Sent: 28 June 2024 11:06 AM\n",
    "To: bharat@kpcoldchain.com; Ops.pune@kpcoldchain.com; ops.delhi@kpcoldchain.com\n",
    "Cc: ANL Datar Cancer Genetics Limited; Sanjeev; ashwani@kpcoldchain.com\n",
    "Subject: Today Request to Arranged Pick-up from Mahamana Pandit Madan Mohan Malaviya Cancer Centre, Varanasi (U.P.) - 221005, India\n",
    "\n",
    " \n",
    "\n",
    "Dear Bharat Sir,\n",
    "\n",
    "Please find below detail kindly arranged the Pick-up from Varanasi. Kindly instruct your persons to carry the Ambient box for sample pick-up.\n",
    "\n",
    " Pick – Up Date                                                  : Today 28th - June- 2024 at 2.00 PM\n",
    "\n",
    "Pick - up Address                                               :- Mahamana Pandit Madan Mohan Malaviya Cancer Centre, Sundar Bagiya, Near Nariya Gate, Banaras Hindu University Campus, Varanasi (U.P.) - 221005, India\n",
    "                                                                         \n",
    "Shipment Type                                                   :-Ambient box\n",
    "\n",
    "Commodity                                                         : - FFPE Block Sample\n",
    "\n",
    "Contact Person                                                  : -Ms. Natasha Sisodia\n",
    "\n",
    "Contact Number                                                :-7906400499 \n",
    "\n",
    "Delivery Address                                                :- Datar Cancer Genetics Private Limited F-8,D- Road, Ambad Nashik - 422010.\n",
    "\n",
    "Note                                                                    :- Kindly make sure that the sample will be reach Nashik within 24 hrs from the Pick – up time.\"\"\"\n"
   ]
  },
  {
   "cell_type": "code",
   "execution_count": 14,
   "id": "3474e24b-c575-45d5-8364-14d556ec0b88",
   "metadata": {},
   "outputs": [],
   "source": [
    "patterns = {\n",
    "    'pickup_date': r'Pick – Up Date\\s*:\\s*(.*?)(?=\\n)',\n",
    "    'pickup_address': r'Pick - up Address\\s*:-\\s*(.*?)(?=\\n\\n|Shipment Type)',\n",
    "    'shipment_type': r'Shipment Type\\s*:-\\s*(.*?)(?=\\n|Commodity)',\n",
    "    'commodity': r'Commodity\\s*:\\s*(.*?)(?=\\n|Contact Person)',\n",
    "    'contact_person': r'Contact Person\\s*:\\s*(.*?)(?=\\n|Contact Number)',\n",
    "    'contact_number': r'Contact Number\\s*:\\s*(.*?)(?=\\n|Delivery Address)',\n",
    "    'delivery_address': r'Delivery Address\\s*:-\\s*(.*?)(?=\\n|Note)',\n",
    "    'note': r'Note\\s*:-\\s*(.*)'\n",
    "}\n"
   ]
  },
  {
   "cell_type": "code",
   "execution_count": 20,
   "id": "62dff3ef-6600-4d2a-a49a-8454dd2289fb",
   "metadata": {},
   "outputs": [],
   "source": [
    "def clean_text(text):\n",
    "    \"\"\"Ensure the first character is not a special character.\"\"\"\n",
    "    text = text.strip()\n",
    "    if text and not text[0].isalnum():\n",
    "        text = text[1:].strip()\n",
    "    return text\n",
    "    "
   ]
  },
  {
   "cell_type": "code",
   "execution_count": 17,
   "id": "442385e5-1702-4cf5-9e34-841aa162ee88",
   "metadata": {},
   "outputs": [
    {
     "data": {
      "text/plain": [
       "{'pickup_date': 'Today 28th - June- 2024 at 2.00 PM',\n",
       " 'pickup_address': 'Mahamana Pandit Madan Mohan Malaviya Cancer Centre, Sundar Bagiya, Near Nariya Gate, Banaras Hindu University Campus, Varanasi (U.P.) - 221005, India',\n",
       " 'shipment_type': 'Ambient box',\n",
       " 'commodity': 'FFPE Block Sample',\n",
       " 'contact_person': 'Ms. Natasha Sisodia',\n",
       " 'contact_number': '7906400499',\n",
       " 'delivery_address': 'Datar Cancer Genetics Private Limited F-8,D- Road, Ambad Nashik - 422010.',\n",
       " 'note': 'Kindly make sure that the sample will be reach Nashik within 24 hrs from the Pick – up time.'}"
      ]
     },
     "execution_count": 17,
     "metadata": {},
     "output_type": "execute_result"
    }
   ],
   "source": [
    "\n",
    "# Extract information using regex patterns\n",
    "extracted_info = {}\n",
    "for key, pattern in patterns.items():\n",
    "    match = re.search(pattern, text, re.DOTALL)\n",
    "    extracted_info[key] = clean_text(match.group(1)) if match else 'Not found'\n",
    "    \n",
    "\n",
    "# Display the extracted information\n",
    "extracted_info\n"
   ]
  },
  {
   "cell_type": "code",
   "execution_count": 18,
   "id": "c30d8b7a-1c6a-41e4-ba94-f6c99c52fb9c",
   "metadata": {},
   "outputs": [],
   "source": [
    "\n",
    "# Save the extracted information to a JSON file\n",
    "with open('extracted_data.json', 'w') as file:\n",
    "    json.dump(extracted_info, file, indent=4)\n"
   ]
  },
  {
   "cell_type": "code",
   "execution_count": 19,
   "id": "5b0eb8fd-b503-45eb-9dcb-fea8da2eb2a2",
   "metadata": {},
   "outputs": [
    {
     "data": {
      "text/plain": [
       "{'pickup_date': 'Today 28th - June- 2024 at 2.00 PM',\n",
       " 'pickup_address': 'Mahamana Pandit Madan Mohan Malaviya Cancer Centre, Sundar Bagiya, Near Nariya Gate, Banaras Hindu University Campus, Varanasi (U.P.) - 221005, India',\n",
       " 'shipment_type': 'Ambient box',\n",
       " 'commodity': 'FFPE Block Sample',\n",
       " 'contact_person': 'Ms. Natasha Sisodia',\n",
       " 'contact_number': '7906400499',\n",
       " 'delivery_address': 'Datar Cancer Genetics Private Limited F-8,D- Road, Ambad Nashik - 422010.',\n",
       " 'note': 'Kindly make sure that the sample will be reach Nashik within 24 hrs from the Pick – up time.'}"
      ]
     },
     "execution_count": 19,
     "metadata": {},
     "output_type": "execute_result"
    }
   ],
   "source": [
    "with open('extracted_data.json', 'r') as file:\n",
    "    extracted_info = json.load(file)\n",
    "\n",
    "extracted_info"
   ]
  },
  {
   "cell_type": "code",
   "execution_count": null,
   "id": "ae4a218a-05b3-46ab-99a9-95c30bd39b15",
   "metadata": {},
   "outputs": [],
   "source": []
  }
 ],
 "metadata": {
  "kernelspec": {
   "display_name": "Python 3 (ipykernel)",
   "language": "python",
   "name": "python3"
  },
  "language_info": {
   "codemirror_mode": {
    "name": "ipython",
    "version": 3
   },
   "file_extension": ".py",
   "mimetype": "text/x-python",
   "name": "python",
   "nbconvert_exporter": "python",
   "pygments_lexer": "ipython3",
   "version": "3.12.4"
  }
 },
 "nbformat": 4,
 "nbformat_minor": 5
}
